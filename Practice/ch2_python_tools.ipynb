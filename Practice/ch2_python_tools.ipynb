{
 "cells": [
  {
   "cell_type": "markdown",
   "id": "631051a2",
   "metadata": {},
   "source": [
    "##### Python Crash Course Relevant Examples\n",
    "\n",
    "##### Dictionaries"
   ]
  },
  {
   "cell_type": "code",
   "execution_count": 7,
   "id": "adca533e",
   "metadata": {},
   "outputs": [
    {
     "name": "stdout",
     "output_type": "stream",
     "text": [
      "No kate in gradebook\n",
      "True False\n",
      "0\n",
      "user\n",
      "joelgrus\n",
      "text\n",
      "Data Science is Awesome\n",
      "retweet_count\n",
      "100\n",
      "hashtags\n",
      "['#data', '#science', '#datascience', '#awesome', '#yolo']\n"
     ]
    }
   ],
   "source": [
    "#allows retrieval of data in key value pairs\n",
    "grades = {\"Joel\":80, \"Tim\":95}\n",
    "grades[\"Joel\"]\n",
    "\n",
    "#you get KeyError if you ask for a key not in the dictionary\n",
    "try:\n",
    "    kates_grade = grades[\"kate\"]\n",
    "except KeyError:\n",
    "    print('No kate in gradebook')\n",
    "    \n",
    "#can check for existance of a key as a True False\n",
    "Joel_grade = \"Joel\" in grades\n",
    "Kate_grade = \"Kate\" in grades\n",
    "print(Joel_grade, Kate_grade)\n",
    "\n",
    "#get method can give a default value when a key isn't present\n",
    "kate_grade = grades.get(\"Kate\", 0)\n",
    "print(kate_grade)\n",
    "\n",
    "#dictionaries are greate for structured data\n",
    "#eg\n",
    "tweet = {\n",
    "        \"user\" : \"joelgrus\",\n",
    "        \"text\" : \"Data Science is Awesome\",\n",
    "        \"retweet_count\" : 100,\n",
    "        \"hashtags\" : [\"#data\", \"#science\", \"#datascience\", \"#awesome\", \"#yolo\"]\n",
    "         }\n",
    "\n",
    "#How to iterate\n",
    "for key, value in tweet.items():\n",
    "    print(key)\n",
    "    print(value)"
   ]
  },
  {
   "cell_type": "markdown",
   "id": "ed7c5bf0",
   "metadata": {},
   "source": [
    "##### DefaultDict\n",
    "\n",
    "It's like a regular dictionary but if you try to look up a key not contained in the dictionary, it adds a value for it using a zero arguement function provided in it's creation."
   ]
  },
  {
   "cell_type": "code",
   "execution_count": 8,
   "id": "8841781f",
   "metadata": {},
   "outputs": [
    {
     "name": "stdout",
     "output_type": "stream",
     "text": [
      "defaultdict(<class 'int'>, {'potato': 2, 'tomato': 1})\n",
      "defaultdict(<function <lambda> at 0x00000265C83C07B8>, {})\n"
     ]
    },
    {
     "data": {
      "text/plain": [
       "defaultdict(<function __main__.<lambda>()>, {2: [0, 1]})"
      ]
     },
     "execution_count": 8,
     "metadata": {},
     "output_type": "execute_result"
    }
   ],
   "source": [
    "#eg\n",
    "from collections import defaultdict\n",
    "\n",
    "document = ['potato', 'tomato', 'potato']\n",
    "\n",
    "word_counts = defaultdict(int) #integer 0 for uncontained\n",
    "for word in document:\n",
    "    word_counts[word] += 1\n",
    "print(word_counts)\n",
    "\n",
    "#other examples that will be useful\n",
    "dd_list = defaultdict(list) #list creates an empty list\n",
    "dd_list[2].append(1) # now dd_list contains {2: [1]}\n",
    "\n",
    "dd_dict = defaultdict(dict) # dict() produces an empty dict\n",
    "dd_dict[\"Joel\"][\"City\"] = \"Seattle\" # {\"Joel\" : {\"City\": Seattle\"}}\n",
    "\n",
    "dd_pair = defaultdict(lambda: [0, 0])\n",
    "print(dd_pair)\n",
    "dd_pair[2][1] = 1 # now dd_pair contains {2: [0, 1]}\n",
    "dd_pair"
   ]
  },
  {
   "cell_type": "markdown",
   "id": "00384d89",
   "metadata": {},
   "source": [
    "###### Counters\n",
    "\n",
    "Turns a sequence of values into a defaultdict(int) like object mapping keys to counts"
   ]
  },
  {
   "cell_type": "code",
   "execution_count": 9,
   "id": "6b5e1a03",
   "metadata": {},
   "outputs": [
    {
     "name": "stdout",
     "output_type": "stream",
     "text": [
      "Counter({0: 2, 1: 1, 2: 1})\n",
      "Counter({'potato': 2, 'tomato': 1})\n",
      "potato 2\n",
      "tomato 1\n"
     ]
    }
   ],
   "source": [
    "from collections import Counter\n",
    "c = Counter([0,1,2,0])\n",
    "print(c)\n",
    "\n",
    "#with this we can word count easily\n",
    "word_counts = Counter(document)\n",
    "print(word_counts)\n",
    "\n",
    "#Most common method\n",
    "for word,count in word_counts.most_common(10): #selects 10 most common words\n",
    "    print(word,count)"
   ]
  },
  {
   "cell_type": "markdown",
   "id": "bba0f0ba",
   "metadata": {},
   "source": [
    "###### Sets\n",
    "\n",
    "Another useful data structure, a collection of distinct elements. They are useful for two main reasons -in is a very fast operation on sets, much faster than lists. Also, for finding distinct items in a collection"
   ]
  },
  {
   "cell_type": "code",
   "execution_count": 10,
   "id": "2f78ddd3",
   "metadata": {},
   "outputs": [
    {
     "name": "stdout",
     "output_type": "stream",
     "text": [
      "True False\n"
     ]
    }
   ],
   "source": [
    "primes_below_ten = {2,3,5,7}\n",
    "\n",
    "#to make an empty set\n",
    "s = set()\n",
    "\n",
    "#In statement\n",
    "s.add(2)\n",
    "y = 2 in s\n",
    "z = 3 in s\n",
    "print(y,z)\n",
    "\n",
    "#distinct items\n",
    "item_list = [1, 2, 3, 1, 2, 3]\n",
    "num_items = len(item_list) # 6\n",
    "item_set = set(item_list) # {1, 2, 3}\n",
    "num_distinct_items = len(item_set) # 3\n",
    "distinct_item_list = list(item_set) # [1, 2, 3]"
   ]
  },
  {
   "cell_type": "markdown",
   "id": "bee656ec",
   "metadata": {},
   "source": [
    "##### Multiple List Comprehensions"
   ]
  },
  {
   "cell_type": "code",
   "execution_count": 11,
   "id": "53e3593c",
   "metadata": {},
   "outputs": [
    {
     "name": "stdout",
     "output_type": "stream",
     "text": [
      "[(0, 1), (0, 2), (0, 3), (0, 4), (0, 5), (0, 6), (0, 7), (0, 8), (0, 9), (1, 2), (1, 3), (1, 4), (1, 5), (1, 6), (1, 7), (1, 8), (1, 9), (2, 3), (2, 4), (2, 5), (2, 6), (2, 7), (2, 8), (2, 9), (3, 4), (3, 5), (3, 6), (3, 7), (3, 8), (3, 9), (4, 5), (4, 6), (4, 7), (4, 8), (4, 9), (5, 6), (5, 7), (5, 8), (5, 9), (6, 7), (6, 8), (6, 9), (7, 8), (7, 9), (8, 9)]\n"
     ]
    }
   ],
   "source": [
    "#eg 1\n",
    "pairs = [(x,y) for x in range(10)\n",
    "        for y in range(x+1,10)]\n",
    "print(pairs)\n",
    "\n",
    "#eg 2\n",
    "increasing_pairs = [(x,y)\n",
    "                   for x in range(10) #for each x\n",
    "                   for y in range(x+1, 10)] #compute y "
   ]
  },
  {
   "cell_type": "markdown",
   "id": "5dedaeee",
   "metadata": {},
   "source": [
    "##### Automated Testing and Assert\n",
    "\n",
    "Automated tests is a way to check if code is correct"
   ]
  },
  {
   "cell_type": "code",
   "execution_count": 12,
   "id": "798960d8",
   "metadata": {},
   "outputs": [
    {
     "ename": "AssertionError",
     "evalue": "",
     "output_type": "error",
     "traceback": [
      "\u001b[1;31m---------------------------------------------------------------------------\u001b[0m",
      "\u001b[1;31mAssertionError\u001b[0m                            Traceback (most recent call last)",
      "\u001b[1;32m<ipython-input-12-7f1f60429cc9>\u001b[0m in \u001b[0;36m<module>\u001b[1;34m\u001b[0m\n\u001b[0;32m      6\u001b[0m     \u001b[1;32mreturn\u001b[0m \u001b[0mmin\u001b[0m\u001b[1;33m(\u001b[0m\u001b[0mx\u001b[0m\u001b[1;33m)\u001b[0m\u001b[1;33m\u001b[0m\u001b[1;33m\u001b[0m\u001b[0m\n\u001b[0;32m      7\u001b[0m \u001b[1;33m\u001b[0m\u001b[0m\n\u001b[1;32m----> 8\u001b[1;33m \u001b[1;32massert\u001b[0m \u001b[0msmallest_item\u001b[0m\u001b[1;33m(\u001b[0m\u001b[1;33m[\u001b[0m\u001b[1;36m10\u001b[0m\u001b[1;33m,\u001b[0m\u001b[1;36m20\u001b[0m\u001b[1;33m,\u001b[0m\u001b[1;36m6\u001b[0m\u001b[1;33m,\u001b[0m\u001b[1;36m40\u001b[0m\u001b[1;33m]\u001b[0m\u001b[1;33m)\u001b[0m \u001b[1;33m==\u001b[0m \u001b[1;36m5\u001b[0m\u001b[1;33m\u001b[0m\u001b[1;33m\u001b[0m\u001b[0m\n\u001b[0m",
      "\u001b[1;31mAssertionError\u001b[0m: "
     ]
    }
   ],
   "source": [
    "#Simple example\n",
    "# assert 1+1==3, \"1+1 != 3\"\n",
    "\n",
    "#more useful\n",
    "def smallest_item(x):\n",
    "    return min(x)\n",
    "\n",
    "assert smallest_item([10,20,6,40]) == 5"
   ]
  },
  {
   "cell_type": "markdown",
   "id": "c0bb6834",
   "metadata": {},
   "source": [
    "##### Object-Oriented Programming - Code isn't running - seek another resource\n",
    "\n",
    "Python allows you to define classes that encapsulate data and functions that operate on them. Can help make code cleaner and simpler. We'll explain them through example of constructing a counter clicker to implement a count, read it, and reset it to zero. We begin by "
   ]
  },
  {
   "cell_type": "code",
   "execution_count": null,
   "id": "af95ac27",
   "metadata": {},
   "outputs": [],
   "source": [
    "class CountingClicker:\n",
    "    \"\"\"A class can and should have a docstring like a function\"\"\"\n"
   ]
  },
  {
   "cell_type": "markdown",
   "id": "70083dbe",
   "metadata": {},
   "source": [
    "A class contains zero or more member functions. These take a first parameter: self. Self refers to the particular class instance. A class normally has a constructor called __init__. It takes in whatever parameters you need to construct an instance of your class and does the setup."
   ]
  },
  {
   "cell_type": "code",
   "execution_count": null,
   "id": "bfb07cca",
   "metadata": {},
   "outputs": [],
   "source": [
    "def __init__(self, count = 0):\n",
    "    self.count = count"
   ]
  },
  {
   "cell_type": "markdown",
   "id": "d42114ae",
   "metadata": {},
   "source": [
    "When we construct instances of the class we use the class name"
   ]
  },
  {
   "cell_type": "code",
   "execution_count": null,
   "id": "28abeb9f",
   "metadata": {},
   "outputs": [],
   "source": [
    "clicker1 = CountingClicker()\n",
    "clicker2 = CountingClicker(count=100)"
   ]
  },
  {
   "cell_type": "markdown",
   "id": "f98fb770",
   "metadata": {},
   "source": [
    "##### Iterables and Generators\n",
    "\n",
    "Often need to iteratle over the collection of data using generators (create  the next index on demand). We can create generators using the yield operator."
   ]
  },
  {
   "cell_type": "code",
   "execution_count": 14,
   "id": "bc1e1f20",
   "metadata": {},
   "outputs": [
    {
     "name": "stdout",
     "output_type": "stream",
     "text": [
      "i:0\n",
      "i:1\n",
      "i:2\n",
      "i:3\n",
      "i:4\n",
      "i:5\n",
      "i:6\n",
      "i:7\n",
      "i:8\n",
      "i:9\n"
     ]
    }
   ],
   "source": [
    "def generate_range(n):\n",
    "    i=0\n",
    "    while i<n:\n",
    "        yield i #yield operator produces a value of the generator\n",
    "        i += 1\n",
    "\n",
    "#using it\n",
    "for i in generate_range(10):\n",
    "    print(f\"i:{i}\")"
   ]
  },
  {
   "cell_type": "markdown",
   "id": "b0f45076",
   "metadata": {},
   "source": [
    "Generators can be made by using for comprehensions in (). This is useful as python doesn't do any work until you iterate over it using for or next. This makes it useful for data processing pipelines.\n",
    "\n",
    "Tip: The flip side of laziness is that you can only iterate through a generator once. If you need to iterate through something multiple times, you’ll need to either re-create the generator each time or use a list. If generating the values is expensive, that might be a good reason to use a list instead.\n"
   ]
  },
  {
   "cell_type": "code",
   "execution_count": 28,
   "id": "cb21e2b9",
   "metadata": {},
   "outputs": [
    {
     "name": "stdout",
     "output_type": "stream",
     "text": [
      "i:16\n",
      "i:36\n",
      "i:196\n",
      "i:256\n",
      "i:576\n",
      "i:676\n",
      "i:1156\n",
      "i:1296\n",
      "i:1936\n",
      "i:2116\n",
      "i:2916\n",
      "i:3136\n",
      "i:4096\n",
      "i:4356\n",
      "i:5476\n",
      "i:5776\n",
      "i:7056\n",
      "i:7396\n",
      "i:8836\n",
      "i:9216\n",
      "j:16\n",
      "j:36\n",
      "j:196\n",
      "j:256\n",
      "j:576\n",
      "j:676\n",
      "j:1156\n",
      "j:1296\n",
      "j:1936\n",
      "j:2116\n",
      "j:2916\n",
      "j:3136\n",
      "j:4096\n",
      "j:4356\n",
      "j:5476\n",
      "j:5776\n",
      "j:7056\n",
      "j:7396\n",
      "j:8836\n",
      "j:9216\n"
     ]
    }
   ],
   "source": [
    "evens_below_20 = (i for i in generate_range(20) if i%2==0)\n",
    "\n",
    "#pipeline\n",
    "import numpy as np\n",
    "data = np.arange(0,100)\n",
    "evens = (x for x in data if x % 2==0)\n",
    "even_squares = (x**2 for x in evens)\n",
    "even_squares_ending_in_six = (x for x in even_squares if x % 10 == 6)\n",
    "\n",
    "#my attempt\n",
    "even = (x**2 for x in data if x % 2==0)\n",
    "even2 = (x for x in even if x % 10 == 6)\n",
    "\n",
    "#cant print even2 because its a generator object\n",
    "#we have to iterate over it\n",
    "for i in even_squares_ending_in_six:\n",
    "    print(f\"i:{i}\")\n",
    "    \n",
    "for j in even2:\n",
    "    print(f\"j:{j}\")"
   ]
  },
  {
   "cell_type": "markdown",
   "id": "8ba1078c",
   "metadata": {},
   "source": [
    "When iterating over a generator we sometimes want the values and their indices - this can be accomplished with the enumerate function which turns values into pairs (index, value)"
   ]
  },
  {
   "cell_type": "code",
   "execution_count": 29,
   "id": "744df3cd",
   "metadata": {},
   "outputs": [
    {
     "name": "stdout",
     "output_type": "stream",
     "text": [
      "name 0 is Alice\n",
      "name 1 is Bob\n",
      "name 2 is Charles\n",
      "name 3 is Bethany\n"
     ]
    }
   ],
   "source": [
    "names = ['Alice','Bob',\"Charles\",\"Bethany\"]\n",
    "\n",
    "for i, name in enumerate(names):\n",
    "    print(f\"name {i} is {name}\")"
   ]
  },
  {
   "cell_type": "markdown",
   "id": "7e5cdfa7",
   "metadata": {},
   "source": [
    "##### Regular Expressions\n",
    "\n",
    "Provide a way of searching text. They are useful but complicated, here's an example of using them in the text."
   ]
  },
  {
   "cell_type": "code",
   "execution_count": 35,
   "id": "1e6161fd",
   "metadata": {},
   "outputs": [],
   "source": [
    "import re\n",
    "\n",
    "re_examples = [ #All of these are true because\n",
    "    not re.match(\"a\", \"cat\"), #'cat' doesn't start with an 'a'\n",
    "    re.search(\"a\", \"cat\"), #cat has an a in it\n",
    "    not re.search(\"c\", \"dog\"), #dog doesn't have c\n",
    "    3 == len(re.split(\"[ab]\", \"carbs\")), #split on a or b to [\"c\",\"r\",\"s\"]\n",
    "    \"R-D-\" == re.sub(\"[0-9]\", \"-\", \"R2D2\") #replace digits with dashes\n",
    "]\n",
    "\n",
    "assert all(re_examples)"
   ]
  },
  {
   "cell_type": "markdown",
   "id": "b7d748c4",
   "metadata": {},
   "source": [
    "##### Zip and Arguement Unpacking\n",
    "\n",
    "zip lets you conbimne multiple iterables into a single iterable of tuples. zip is lazy like generators. if the two lists are of unequal length then zip stops at the end of the shorter list. \n",
    "\n",
    "You can \"unzip\" a list too with a strange trick. In it the * unpacks the arguments"
   ]
  },
  {
   "cell_type": "code",
   "execution_count": 38,
   "id": "eddb6e60",
   "metadata": {},
   "outputs": [
    {
     "name": "stdout",
     "output_type": "stream",
     "text": [
      "<zip object at 0x00000265C8932EC8>\n",
      "[('a', 1), ('b', 2), ('c', 3)]\n",
      "('a', 'b', 'c')\n"
     ]
    }
   ],
   "source": [
    "list1 = ['a','b','c']\n",
    "list2 = [1,2,3]\n",
    "\n",
    "#its lazy so we have to use it in an iterable\n",
    "print(zip(list1, list2))\n",
    "pairs = [pair for pair in zip(list1, list2)]\n",
    "print(pairs)\n",
    "\n",
    "#the trick\n",
    "letters, numbers = zip(*pairs)\n",
    "print(letters)"
   ]
  }
 ],
 "metadata": {
  "kernelspec": {
   "display_name": "Python 3",
   "language": "python",
   "name": "python3"
  },
  "language_info": {
   "codemirror_mode": {
    "name": "ipython",
    "version": 3
   },
   "file_extension": ".py",
   "mimetype": "text/x-python",
   "name": "python",
   "nbconvert_exporter": "python",
   "pygments_lexer": "ipython3",
   "version": "3.6.13"
  }
 },
 "nbformat": 4,
 "nbformat_minor": 5
}

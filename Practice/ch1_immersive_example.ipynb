{
 "cells": [
  {
   "cell_type": "code",
   "execution_count": 30,
   "id": "5448865a",
   "metadata": {},
   "outputs": [],
   "source": [
    "import numpy as np\n",
    "import matplotlib.pyplot as plt"
   ]
  },
  {
   "cell_type": "markdown",
   "id": "4b43fe77",
   "metadata": {},
   "source": [
    "##### Task: Identify key connectors among data scientists in a network\n",
    "\n",
    "We have the data, a list of users held in a dict that contains user's id (integer) and name (string)\n",
    "\n",
    "keys: \"id\" & \"name\"\n",
    "\n",
    "and friendship data: a list of tuples (a,b) where a=id of scientist and b=id friend of that scientist. We can think of friendship pairs as a network."
   ]
  },
  {
   "cell_type": "code",
   "execution_count": 2,
   "id": "24b57614",
   "metadata": {},
   "outputs": [],
   "source": [
    "users = [\n",
    "{ \"id\": 0, \"name\": \"Hero\" },\n",
    "{ \"id\": 1, \"name\": \"Dunn\" },\n",
    "{ \"id\": 2, \"name\": \"Sue\" },\n",
    "{ \"id\": 3, \"name\": \"Chi\" },\n",
    "{ \"id\": 4, \"name\": \"Thor\" },\n",
    "{ \"id\": 5, \"name\": \"Clive\" },\n",
    "{ \"id\": 6, \"name\": \"Hicks\" },\n",
    "{ \"id\": 7, \"name\": \"Devin\" },\n",
    "{ \"id\": 8, \"name\": \"Kate\" },\n",
    "{ \"id\": 9, \"name\": \"Klein\" }\n",
    "]\n",
    "\n",
    "friendship_pairs = [(0, 1), (0, 2), (1, 2), (1, 3), (2, 3), (3, 4),\n",
    "(4, 5), (5, 6), (5, 7), (6, 8), (7, 8), (8, 9)]"
   ]
  },
  {
   "cell_type": "markdown",
   "id": "0bb7d856",
   "metadata": {},
   "source": [
    "We want to create a dict where the keys are user ids and values are lists of friends ids. This way we dont have to iterate over the pairs to find friends of a certain user."
   ]
  },
  {
   "cell_type": "code",
   "execution_count": 3,
   "id": "b316d7db",
   "metadata": {},
   "outputs": [
    {
     "name": "stdout",
     "output_type": "stream",
     "text": [
      "{0: [], 1: [], 2: [], 3: [], 4: [], 5: [], 6: [], 7: [], 8: [], 9: []}\n",
      "{0: [1, 2], 1: [0, 2, 3], 2: [0, 1, 3], 3: [1, 2, 4], 4: [3, 5], 5: [4, 6, 7], 6: [5, 8], 7: [5, 8], 8: [6, 7, 9], 9: [8]}\n"
     ]
    }
   ],
   "source": [
    "#initialize the empty dict\n",
    "friendships = {user['id']: [] for user in users} #create dict with keys \"id\" and value []\n",
    "print(friendships)\n",
    "\n",
    "#and populate it from friendship pairs\n",
    "for i, j in friendship_pairs:\n",
    "    friendships[i].append(j)\n",
    "    friendships[j].append(i)\n",
    "    \n",
    "print(friendships)"
   ]
  },
  {
   "cell_type": "markdown",
   "id": "a5c10090",
   "metadata": {},
   "source": [
    "can now ask  whats the average number of connections by first finding the total number of connections. To do this we need to sum the lengths of the populated friend's lists"
   ]
  },
  {
   "cell_type": "code",
   "execution_count": 4,
   "id": "279d6a9f",
   "metadata": {},
   "outputs": [
    {
     "name": "stdout",
     "output_type": "stream",
     "text": [
      "24\n",
      "24\n"
     ]
    }
   ],
   "source": [
    "def number_of_friends(user):\n",
    "    return len(friendships[user[\"id\"]])\n",
    "\n",
    "total_connections = sum(number_of_friends(user) for user in users)\n",
    "print(total_connections)\n",
    "\n",
    "total2 = sum(len(friendships[user[\"id\"]]) for user in users)\n",
    "print(total2)\n",
    "\n",
    "avg = total2/len(users)"
   ]
  },
  {
   "cell_type": "markdown",
   "id": "30db6f67",
   "metadata": {},
   "source": [
    "Now we want to find the \"most connected\" people with the greatest number of friends"
   ]
  },
  {
   "cell_type": "code",
   "execution_count": 6,
   "id": "e1970f4b",
   "metadata": {},
   "outputs": [
    {
     "name": "stdout",
     "output_type": "stream",
     "text": [
      "[(1, 3), (2, 3), (3, 3), (5, 3), (8, 3), (0, 2), (4, 2), (6, 2), (7, 2), (9, 1)]\n"
     ]
    }
   ],
   "source": [
    "#We want to create a list of people with their friends\n",
    "num_friends_by_id = [(user[\"id\"], number_of_friends(user)) for user in users]\n",
    "\n",
    "#and sort from largest to smallest\n",
    "#print(num_friends_by_id)\n",
    "num_friends_by_id.sort(key=lambda x:x[1], reverse=True)\n",
    "#sort by key which is num_friends_id[1] ie the number of friends in the list\n",
    "print(num_friends_by_id)"
   ]
  },
  {
   "cell_type": "markdown",
   "id": "eaa83de0",
   "metadata": {},
   "source": [
    "Now we'll design a simple recommendation algorithm based on suggesting friends of friends\n",
    "\n",
    "How can we do this? lets iterate over the friends and collect the friends of friends. Then we'll ad a count of mutual friends. "
   ]
  },
  {
   "cell_type": "code",
   "execution_count": 20,
   "id": "9df6ca39",
   "metadata": {},
   "outputs": [
    {
     "name": "stdout",
     "output_type": "stream",
     "text": [
      "{0: [1, 2], 1: [0, 2, 3], 2: [0, 1, 3], 3: [1, 2, 4], 4: [3, 5], 5: [4, 6, 7], 6: [5, 8], 7: [5, 8], 8: [6, 7, 9], 9: [8]}\n",
      "[0, 2, 3, 0, 1, 3]\n",
      "Counter({0: 2, 5: 1})\n"
     ]
    }
   ],
   "source": [
    "print(friendships)\n",
    "\n",
    "def foaf_ids_bad(user):\n",
    "    #return a list populated by friends of friends\n",
    "    return [foaf_id \n",
    "            for friend_id in friendships[user[\"id\"]] #select friend list in friendships\n",
    "            for foaf_id in friendships[friend_id]] #select id's of friends in list a populate return list\n",
    "\n",
    "print(foaf_ids_bad(users[0])) #returns all friends of users[0]\n",
    "\n",
    "#then add a count of mutual friends and exclude people already known to the user\n",
    "\n",
    "from collections import Counter\n",
    "def friends_of_friends(user):\n",
    "    user_id = user[\"id\"]\n",
    "    return Counter(foaf_id\n",
    "                  for friend_id in friendships[user_id]\n",
    "                  for foaf_id in friendships[friend_id]\n",
    "                  #don't add to count if user_id is that friend and if the friend has already been counted\n",
    "                  if foaf_id != user_id and foaf_id not in friendships[user_id])\n",
    "\n",
    "print(friends_of_friends(users[3])) #tells us users[3] has 2 friends in common with zero and 1 with five"
   ]
  },
  {
   "cell_type": "markdown",
   "id": "9b789479",
   "metadata": {},
   "source": [
    "Now we want to suggest meeting users from similar interest. We have the following data of the user_id and their top interest. We start by defining a function that finds users witha a certain interest."
   ]
  },
  {
   "cell_type": "code",
   "execution_count": 26,
   "id": "dc6f4810",
   "metadata": {},
   "outputs": [
    {
     "name": "stdout",
     "output_type": "stream",
     "text": [
      "defaultdict(<class 'list'>, {0: ['Hadoop', 'Big Data', 'HBase', 'Java', 'Spark', 'Storm', 'Cassandra'], 1: ['NoSQL', 'MongoDB', 'Cassandra', 'HBase', 'Postgres'], 2: ['Python', 'scikit-learn', 'scipy', 'numpy', 'statsmodels', 'pandas'], 3: ['R', 'Python', 'statistics', 'regression', 'probability'], 4: ['machine learning', 'regression', 'decision trees', 'libsvm'], 5: ['Python', 'R', 'Java', 'C++', 'Haskell', 'programming languages'], 6: ['statistics', 'probability', 'mathematics', 'theory'], 7: ['machine learning', 'scikit-learn', 'Mahout', 'neural networks'], 8: ['neural networks', 'deep learning', 'Big Data', 'artificial intelligence'], 9: ['Hadoop', 'Java', 'MapReduce', 'Big Data']})\n"
     ]
    }
   ],
   "source": [
    "interests = [\n",
    "(0, \"Hadoop\"), (0, \"Big Data\"), (0, \"HBase\"), (0, \"Java\"),\n",
    "(0, \"Spark\"), (0, \"Storm\"), (0, \"Cassandra\"),\n",
    "(1, \"NoSQL\"), (1, \"MongoDB\"), (1, \"Cassandra\"), (1, \"HBase\"),\n",
    "(1, \"Postgres\"), (2, \"Python\"), (2, \"scikit-learn\"), (2, \"scipy\"),\n",
    "(2, \"numpy\"), (2, \"statsmodels\"), (2, \"pandas\"), (3, \"R\"), (3, \"Python\"),\n",
    "(3, \"statistics\"), (3, \"regression\"), (3, \"probability\"),\n",
    "(4, \"machine learning\"), (4, \"regression\"), (4, \"decision trees\"),\n",
    "(4, \"libsvm\"), (5, \"Python\"), (5, \"R\"), (5, \"Java\"), (5, \"C++\"),\n",
    "(5, \"Haskell\"), (5, \"programming languages\"), (6, \"statistics\"),\n",
    "(6, \"probability\"), (6, \"mathematics\"), (6, \"theory\"),\n",
    "(7, \"machine learning\"), (7, \"scikit-learn\"), (7, \"Mahout\"),\n",
    "(7, \"neural networks\"), (8, \"neural networks\"), (8, \"deep learning\"),\n",
    "(8, \"Big Data\"), (8, \"artificial intelligence\"), (9, \"Hadoop\"),\n",
    "(9, \"Java\"), (9, \"MapReduce\"), (9, \"Big Data\")\n",
    "]\n",
    "\n",
    "def data_like(target_interest):\n",
    "    return [user_id for user_id, user_interest in interests\n",
    "           if user_interest==target_interest]\n",
    "\n",
    "#this works but has to examine the whole list of interest for every search\n",
    "#we build an index from interests to users for ease of repitition\n",
    "\n",
    "from collections import defaultdict\n",
    "\n",
    "user_ids_by_interest = defaultdict(list)\n",
    "for user_id, interest in interests:\n",
    "    user_ids_by_interest[interest].append(user_id)\n",
    "\n",
    "#print(user_ids_by_interest)\n",
    "\n",
    "#and another from users to interests\n",
    "interests_by_user_id = defaultdict(list)\n",
    "for user_id, interest in interests:\n",
    "    interests_by_user_id[user_id].append(interest)\n",
    "\n",
    "print(interests_by_user_id)\n",
    "    \n",
    "#now we can find who has the most interests in common with a given user\n",
    "#we iterate over a user's interests\n",
    "#then for each interest, iterate over the other users with that interest\n",
    "#keep count of how many times we see the other user\n",
    "\n",
    "def most_common_interests_with(user):\n",
    "    return Counter(int_user_id\n",
    "                   for interest in interests_by_user_id[user[\"id\"]] #iterate through interests\n",
    "                   for int_user_id in user_id_by_interests[interest] #iterate through users with interests\n",
    "                   if int_user_id != user['id']) #conditional to exclude the user input of the function\n",
    "                   \n",
    "#use further in chapter 23"
   ]
  },
  {
   "cell_type": "markdown",
   "id": "3a6f2580",
   "metadata": {},
   "source": [
    "###### Task: Salaries and Experience\n",
    "\n",
    "We have data that is salaries (integer) and tenure (float) for different scientists as a list of tuples we want to do some general analysis>"
   ]
  },
  {
   "cell_type": "code",
   "execution_count": 54,
   "id": "74873211",
   "metadata": {},
   "outputs": [
    {
     "name": "stdout",
     "output_type": "stream",
     "text": [
      "{8.7: 83000.0, 8.1: 88000.0, 0.7: 48000.0, 6: 76000.0, 6.5: 69000.0, 7.5: 76000.0, 2.5: 60000.0, 10: 83000.0, 1.9: 48000.0, 4.2: 63000.0}\n"
     ]
    },
    {
     "data": {
      "image/png": "[encoded data removed]",
      "text/plain": [
       "<Figure size 640x480 with 1 Axes>"
      ]
     },
     "metadata": {},
     "output_type": "display_data"
    }
   ],
   "source": [
    "salaries_and_tenures = [(83000, 8.7), (88000, 8.1),\n",
    "(48000, 0.7), (76000, 6),\n",
    "(69000, 6.5), (76000, 7.5),\n",
    "(60000, 2.5), (83000, 10),\n",
    "(48000, 1.9), (63000, 4.2)]\n",
    "\n",
    "#start by plotting\n",
    "x,y = [], []\n",
    "for i in range(len(salaries_and_tenures)):\n",
    "    x.append(salaries_and_tenures[i][1])\n",
    "    y.append(salaries_and_tenures[i][0])\n",
    "plt.scatter(x,y)\n",
    "\n",
    "#people with more experience earn more\n",
    "#we first look at average salary for each tenure\n",
    "\n",
    "salary_by_tenure = defaultdict(list) #Initialize empty dict like object\n",
    "\n",
    "for salary, tenure in salaries_and_tenures: #Iterate through dataset and fill dict\n",
    "    salary_by_tenure[tenure].append(salary)\n",
    "    \n",
    "#new dict populated by tenure as key and avg salaries as values\n",
    "avg_salary_by_tenure = {tenure:sum(salaries) / len(salaries)\n",
    "                       for tenure, salaries in salary_by_tenure.items()}\n",
    "print(avg_salary_by_tenure)"
   ]
  },
  {
   "cell_type": "code",
   "execution_count": 61,
   "id": "a297c2dc",
   "metadata": {},
   "outputs": [
    {
     "name": "stdout",
     "output_type": "stream",
     "text": [
      "defaultdict(<class 'list'>, {'more than five': [83000, 88000, 76000, 69000, 76000, 83000], 'less than two': [48000, 48000], 'between two and five': [60000, 63000]})\n",
      "--\n",
      "{'more than five': 79166.66666666667, 'less than two': 48000.0, 'between two and five': 61500.0}\n"
     ]
    }
   ],
   "source": [
    "#this isn't super helpful since none of the uses have the same tenure\n",
    "#we organize through binning tenure\n",
    "\n",
    "def tenure_bin(tenure):\n",
    "    if tenure <2:\n",
    "        return \"less than two\"\n",
    "    elif tenure <5:\n",
    "        return \"between two and five\"\n",
    "    else:\n",
    "        return \"more than five\"\n",
    "    \n",
    "#and group salaries by each bucket\n",
    "sal_by_ten = defaultdict(list)\n",
    "for salary, tenure in salaries_and_tenures:\n",
    "    bucket = tenure_bin(tenure)\n",
    "    sal_by_ten[bucket].append(salary)\n",
    "\n",
    "print(sal_by_ten)\n",
    "#and compute average salary for the group\n",
    "avg_salary_by_bin = {tenure_bin: sum(salaries)/len(salaries)\n",
    "                    for tenure_bin, salaries in sal_by_ten.items()}\n",
    "print('--')\n",
    "print(avg_salary_by_bin)\n",
    "\n",
    "#now we can compare and make an analysis like scientists with 5 or more years of\n",
    "#experience make on average 65% more"
   ]
  }
 ],
 "metadata": {
  "kernelspec": {
   "display_name": "Python 3",
   "language": "python",
   "name": "python3"
  },
  "language_info": {
   "codemirror_mode": {
    "name": "ipython",
    "version": 3
   },
   "file_extension": ".py",
   "mimetype": "text/x-python",
   "name": "python",
   "nbconvert_exporter": "python",
   "pygments_lexer": "ipython3",
   "version": "3.6.13"
  }
 },
 "nbformat": 4,
 "nbformat_minor": 5
}

{
 "cells": [
  {
   "cell_type": "code",
   "execution_count": 37,
   "id": "a678fea2",
   "metadata": {},
   "outputs": [],
   "source": [
    "import numpy as np\n",
    "import stats\n",
    "import matplotlib.pyplot as plt\n",
    "# from scratch.linear_algebra import dot\n",
    "from collections import Counter"
   ]
  },
  {
   "cell_type": "markdown",
   "id": "a4e1886b",
   "metadata": {},
   "source": [
    "##### Data Set\n",
    "\n",
    "We are seeking to provide a description of how many friends the members of the social network from chapter 1 have.\n",
    "\n"
   ]
  },
  {
   "cell_type": "code",
   "execution_count": 38,
   "id": "8af5db98",
   "metadata": {},
   "outputs": [
    {
     "name": "stdout",
     "output_type": "stream",
     "text": [
      "{0: [1, 2], 1: [0, 2, 3, 8, 9, 5, 4, 7], 2: [0, 1, 3], 3: [1, 2, 4], 4: [3, 5, 1], 5: [4, 6, 7, 1], 6: [5, 8], 7: [5, 8, 1], 8: [6, 7, 9, 1], 9: [8, 1]}\n",
      "34\n",
      "[2, 8, 3, 3, 3, 4, 2, 3, 4, 2]\n"
     ]
    }
   ],
   "source": [
    "users = [\n",
    "{ \"id\": 0, \"name\": \"Hero\" },\n",
    "{ \"id\": 1, \"name\": \"Dunn\" },\n",
    "{ \"id\": 2, \"name\": \"Sue\" },\n",
    "{ \"id\": 3, \"name\": \"Chi\" },\n",
    "{ \"id\": 4, \"name\": \"Thor\" },\n",
    "{ \"id\": 5, \"name\": \"Clive\" },\n",
    "{ \"id\": 6, \"name\": \"Hicks\" },\n",
    "{ \"id\": 7, \"name\": \"Devin\" },\n",
    "{ \"id\": 8, \"name\": \"Kate\" },\n",
    "{ \"id\": 9, \"name\": \"Klein\" }\n",
    "]\n",
    "\n",
    "# friendship_pairs = [(0, 1), (0, 2), (1, 2), (1, 3), (2, 3), (3, 4),\n",
    "# (4, 5), (5, 6), (5, 7), (6, 8), (7, 8), (8, 9)]\n",
    "\n",
    "#friendship_pairs with an outlier\n",
    "friendship_pairs = [(0, 1), (0, 2), (1, 2), (1, 3), (2, 3), (3, 4),\n",
    "(4, 5), (5, 6), (5, 7), (6, 8), (7, 8), (8, 9), (1,8), (1,9), (1,5), (1,4),(1,7)]\n",
    "\n",
    "\n",
    "#initialize the empty dict\n",
    "friendships = {user['id']: [] for user in users} #create dict with keys \"id\" and value []\n",
    "\n",
    "#and populate it from friendship pairs\n",
    "for i, j in friendship_pairs:\n",
    "    friendships[i].append(j)\n",
    "    friendships[j].append(i)\n",
    "    \n",
    "print(friendships)\n",
    "\n",
    "def number_of_friends(user):\n",
    "    return len(friendships[user[\"id\"]])\n",
    "\n",
    "total_connections = sum(number_of_friends(user) for user in users)\n",
    "print(total_connections)\n",
    "\n",
    "num_friends = [number_of_friends(user) for user in users]\n",
    "print(num_friends)"
   ]
  },
  {
   "cell_type": "markdown",
   "id": "72afe5de",
   "metadata": {},
   "source": [
    "We'll undertake a statistical exploration of the dataset num_friends. Beginning with a histogram of the friend counts"
   ]
  },
  {
   "cell_type": "code",
   "execution_count": 39,
   "id": "597044aa",
   "metadata": {},
   "outputs": [
    {
     "name": "stdout",
     "output_type": "stream",
     "text": [
      "Counter({3: 4, 2: 3, 4: 2, 8: 1})\n"
     ]
    },
    {
     "data": {
      "text/plain": [
       "Text(0, 0.5, '# of people')"
      ]
     },
     "execution_count": 39,
     "metadata": {},
     "output_type": "execute_result"
    },
    {
     "data": {
      "image/png": "[encoded data removed]",
      "text/plain": [
       "<Figure size 432x288 with 1 Axes>"
      ]
     },
     "metadata": {
      "needs_background": "light"
     },
     "output_type": "display_data"
    }
   ],
   "source": [
    "counts = Counter(num_friends)\n",
    "print(counts)\n",
    "xs = range(10) #x values\n",
    "ys = [counts[x] for x in xs] #y values - # of friends\n",
    "plt.bar(xs,ys)\n",
    "#plt.axis([0, 10, 0, 8])\n",
    "plt.grid()\n",
    "plt.title(\"Histogram of Friend Counts\")\n",
    "plt.xlabel(\"# of friends\")\n",
    "plt.ylabel(\"# of people\")"
   ]
  },
  {
   "cell_type": "markdown",
   "id": "b89d93bc",
   "metadata": {},
   "source": [
    "Now we'll generate some statistics"
   ]
  },
  {
   "cell_type": "code",
   "execution_count": 40,
   "id": "3d1f6458",
   "metadata": {},
   "outputs": [
    {
     "name": "stdout",
     "output_type": "stream",
     "text": [
      "3.4 3.0\n",
      "3.0\n"
     ]
    }
   ],
   "source": [
    "num_friends = np.array(num_friends) #for computation speed\n",
    "num_point = len(num_friends) #total number\n",
    "largest, smallest = num_friends.max(), num_friends.min() #range\n",
    "\n",
    "#Now centeral tendency of data\n",
    "mean = np.average(num_friends)\n",
    "median = np.median(num_friends)\n",
    "print(mean, median)\n",
    "\n",
    "#median is insensitive to outliers unlike the mean\n",
    "#the mean scales proportionately to increases in a single datapoint like (scalar increase)/n\n",
    "#median does not scale proportionately \n",
    "\n",
    "#compute median via quantile\n",
    "print(np.quantile(num_friends, 0.5))\n",
    "\n",
    "#compute mode\n",
    "mode = stats.mode(num_friends)"
   ]
  },
  {
   "cell_type": "code",
   "execution_count": 41,
   "id": "2ecdfeb5",
   "metadata": {},
   "outputs": [
    {
     "name": "stdout",
     "output_type": "stream",
     "text": [
      "6\n",
      "3.1555555555555554 3.155555555555555\n"
     ]
    }
   ],
   "source": [
    "#Dispersion via range\n",
    "data_range = largest - smallest\n",
    "print(data_range)\n",
    "\n",
    "#dispersion via variance\n",
    "def variance(x):\n",
    "    return np.array([(i - np.mean(x))**2 for i in x]).sum() / (len(x) - 1)\n",
    "\n",
    "print(variance(num_friends), stats.variance(num_friends))\n",
    "\n",
    "#these are both affected by outliers like the mean \n",
    "#a robust alternative is the difference between the 75th and 25th percentile\n",
    "#ie the interquartile range\n",
    "def interquartile_range(x):\n",
    "    return np.quantile(x, 0.75) - np.quantile(x, 0.25)\n"
   ]
  },
  {
   "cell_type": "markdown",
   "id": "3a700809",
   "metadata": {},
   "source": [
    "##### Correlation\n",
    "\n",
    "Now that we've covered basic descriptive statistics we examine correlation. In this context we are looking to see if time spent on the site is related to number of friends on the site. \n",
    "\n",
    "Spse we have a dataset of daily_minutes ordered to correspond to the elements of the num_friends list"
   ]
  },
  {
   "cell_type": "code",
   "execution_count": 42,
   "id": "42795824",
   "metadata": {},
   "outputs": [
    {
     "name": "stdout",
     "output_type": "stream",
     "text": [
      "[2 8 3 3 3 4 2 3 4 2]\n",
      "[ 21 139 105  40 149 148  68  82  80 119]\n",
      "37.17777777777778\n",
      "37.177777777777784\n"
     ]
    }
   ],
   "source": [
    "print(num_friends)\n",
    "\n",
    "#simulate daily_minutes with random \n",
    "np.random.seed(500000)\n",
    "daily_minutes = np.random.randint(0,200, size=len(num_friends))\n",
    "print(daily_minutes)\n",
    "\n",
    "#first find covarience to measure how these two variables vary in tandem with their means\n",
    "def covariance(x,y):\n",
    "    assert len(x)==len(y), \"x and y must have the same number of elements\"\n",
    "    return np.dot(np.array([i-np.mean(x) for i in x]), np.array([j-np.mean(y) for j in y]) ) / (len(x)-1)\n",
    "\n",
    "cov2 = np.cov(num_friends, daily_minutes)\n",
    "\n",
    "print(covariance(num_friends, daily_minutes))\n",
    "print(cov2[0,1])"
   ]
  },
  {
   "cell_type": "markdown",
   "id": "17598410",
   "metadata": {},
   "source": [
    "What does Covariance Mean?\n",
    "\n",
    "Since we are taking the unsquared difference of the data from the two sample means that if the ith x and y are greater or less than their means then a positive quantity is summed and we will get a \"Large\" positve covariance that means x and y are proportional quantities. When one is greater that its mean but the other is lesser then we get a negative quantity in the sum and a negative convarience says x and y are inversly proportional. Thus a covariance of zero means no such relationship exists. \n",
    "\n",
    "Interpretation can be difficult because the units are products of x an y units. Covariance scales with size of data set, if x and y are increased proportionally, the covarience scales even though the data is just as interrelated as before. Therefore, it's hard to say what a large covarience is.\n",
    "\n",
    "We instead now look at the correlation which is unitless thanks to normalization, and is in the range of [-1,1] where 1 is perectly correlated and -1 is perfectly anticorrelated."
   ]
  },
  {
   "cell_type": "code",
   "execution_count": 43,
   "id": "81a9ee30",
   "metadata": {},
   "outputs": [
    {
     "name": "stdout",
     "output_type": "stream",
     "text": [
      "Correlation 0.4684925824355784\n"
     ]
    },
    {
     "data": {
      "image/png": "[encoded data removed]",
      "text/plain": [
       "<Figure size 432x288 with 1 Axes>"
      ]
     },
     "metadata": {
      "needs_background": "light"
     },
     "output_type": "display_data"
    }
   ],
   "source": [
    "def correlation(x,y):\n",
    "    std_x, std_y = np.sqrt(variance(x)), np.sqrt(variance(y))\n",
    "    if std_x and std_y > 0:\n",
    "        return covariance(x,y) / (std_x * std_y)\n",
    "    else:\n",
    "        return 0 #no variation \n",
    "    \n",
    "correlate = correlation(num_friends, daily_minutes)\n",
    "print('Correlation', correlate)\n",
    "\n",
    "plt.scatter(num_friends, daily_minutes)\n",
    "plt.xlabel(\"Number of friends\")\n",
    "plt.ylabel(\"Minutes per day\")\n",
    "plt.title(\"Correlation with an Outlier\")\n",
    "plt.show()"
   ]
  },
  {
   "cell_type": "code",
   "execution_count": 49,
   "id": "7c410803",
   "metadata": {},
   "outputs": [
    {
     "name": "stdout",
     "output_type": "stream",
     "text": [
      "[2 8 3 3 3 4 2 3 4 2]\n"
     ]
    },
    {
     "data": {
      "image/png": "[encoded data removed]",
      "text/plain": [
       "<Figure size 432x288 with 1 Axes>"
      ]
     },
     "metadata": {
      "needs_background": "light"
     },
     "output_type": "display_data"
    }
   ],
   "source": [
    "#We now want to eliminate the outlier\n",
    "print(num_friends)\n",
    "\n",
    "#locate the outlier's index\n",
    "outlier = list(num_friends.copy()).index(8)\n",
    "\n",
    "#remaining data\n",
    "rem_friends = [x for i, x in enumerate(num_friends) if i != outlier]\n",
    "rem_minutes = [x for i, x in enumerate(daily_minutes) if i != outlier]\n",
    "\n",
    "plt.scatter(rem_friends, rem_minutes)\n",
    "plt.axis([1.0,8.0,0.0,155.0])\n",
    "plt.xlabel(\"Number of friends\")\n",
    "plt.ylabel(\"Minutes per day\")\n",
    "plt.title(\"Correlation with an Outlier\")\n",
    "plt.show()"
   ]
  },
  {
   "cell_type": "markdown",
   "id": "012e6369",
   "metadata": {},
   "source": [
    "##### Simpson's Paradox\n",
    "\n",
    "A situation in which correlations are misleading when confounding variable are ignored. Eg: from our user data, suppose the members can be divided between west and east coast residents.\n",
    "\n",
    "We look at the average number of friends of both groups and see that west coast users have a higher average number of friends. However, when we also look at average frineds vs whether or not the users have a PhD, people on the east coast with PhD's have more friends on average and people without PhDs have more friends on average. So once we binned the degree data we found the data was correlated in the opposite direction - friendlier east coast. Binning by east vs west disguised correlational aspects of the data.\n",
    "\n",
    "This phenomena can happen regularly. How do we avoid it? Well, correlation measures the relationship between two variables with all else being equal. The key in this example is that there was inequality in that some users have a PhD, while others do not. \n",
    "\n",
    "If dataclasses are really random in assignment as they are in a well designed experiment, analysis assuming two variables have all other factors being equal is valid. However, when their is a deeper pattern to class assignments, all else being equal is flawed.\n",
    "\n",
    "The only true way to avoid this phenomenon is by knowing the data inside and out and checking for confounding factors. \n",
    "\n",
    "##### Other Correlational Caveats\n",
    "\n"
   ]
  }
 ],
 "metadata": {
  "kernelspec": {
   "display_name": "Python 3",
   "language": "python",
   "name": "python3"
  },
  "language_info": {
   "codemirror_mode": {
    "name": "ipython",
    "version": 3
   },
   "file_extension": ".py",
   "mimetype": "text/x-python",
   "name": "python",
   "nbconvert_exporter": "python",
   "pygments_lexer": "ipython3",
   "version": "3.6.13"
  }
 },
 "nbformat": 4,
 "nbformat_minor": 5
}
